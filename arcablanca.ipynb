{
 "cells": [
  {
   "cell_type": "code",
   "execution_count": 11,
   "metadata": {},
   "outputs": [],
   "source": [
    "import pandas as pd\n",
    "import numpy as np\n",
    "\n",
    "\n",
    "def write(n):\n",
    "    if n==1:\n",
    "        primes=[]\n",
    "        return primes\n",
    "    primes=[2]\n",
    "    for i in range(3,n+1):\n",
    "        for j in primes:\n",
    "            if (i%j == 0):\n",
    "                break\n",
    "            if j == primes[-1]:\n",
    "                primes.append(i)\n",
    "\n",
    "    return primes\n",
    "\n",
    "\n",
    "\n"
   ]
  },
  {
   "cell_type": "code",
   "execution_count": 13,
   "metadata": {},
   "outputs": [
    {
     "name": "stdout",
     "output_type": "stream",
     "text": [
      "[]\n"
     ]
    },
    {
     "data": {
      "text/plain": [
       "[]"
      ]
     },
     "execution_count": 13,
     "metadata": {},
     "output_type": "execute_result"
    }
   ],
   "source": [
    "write (1)"
   ]
  }
 ],
 "metadata": {
  "kernelspec": {
   "display_name": "Python 3.8.12",
   "language": "python",
   "name": "python3"
  },
  "language_info": {
   "codemirror_mode": {
    "name": "ipython",
    "version": 3
   },
   "file_extension": ".py",
   "mimetype": "text/x-python",
   "name": "python",
   "nbconvert_exporter": "python",
   "pygments_lexer": "ipython3",
   "version": "3.8.12"
  },
  "vscode": {
   "interpreter": {
    "hash": "9e8336f5aaf8eebef6d48a3b45b08494b66fe67a2a04be680b33896f2163d8b6"
   }
  }
 },
 "nbformat": 4,
 "nbformat_minor": 2
}
