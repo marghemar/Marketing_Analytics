{
  "cells": [
    {
      "cell_type": "markdown",
      "metadata": {
        "colab_type": "text",
        "id": "view-in-github"
      },
      "source": [
        "<a href=\"https://colab.research.google.com/github/marghemar/marghe.mar/blob/main/Import_data.ipynb\" target=\"_parent\"><img src=\"https://colab.research.google.com/assets/colab-badge.svg\" alt=\"Open In Colab\"/></a>"
      ]
    },
    {
      "cell_type": "code",
      "execution_count": 1,
      "metadata": {},
      "outputs": [],
      "source": [
        "import pandas as pd\n",
        "import numpy as np\n",
        "\n",
        "import matplotlib.pyplot as plt\n",
        "import seaborn as sns\n",
        "\n",
        "from sklearn.ensemble import RandomForestClassifier\n",
        "from sklearn.metrics import confusion_matrix, ConfusionMatrixDisplay\n",
        "from sklearn.naive_bayes import GaussianNB\n",
        "from sklearn.svm import SVC\n",
        "from sklearn.neighbors import KNeighborsClassifier\n",
        "from sklearn.neural_network import MLPClassifier\n",
        "from sklearn.ensemble import IsolationForest\n",
        "\n",
        "from sklearn.model_selection import GridSearchCV\n",
        "\n",
        "from sklearn.metrics import f1_score, recall_score"
      ]
    },
    {
      "cell_type": "code",
      "execution_count": null,
      "metadata": {},
      "outputs": [],
      "source": [
        "def getRandomGrid_anomaly_detection(classifier): \n",
        "\n",
        "    if isinstance(classifier, IsolationForest):\n",
        "        n_estimators=[50,100]\n",
        "        max_samples=['auto',0.5,0.9]\n",
        "        contamination='auto'\n",
        "        max_features=[0.7,0.9,1.0]\n",
        "        bootstrap=[True,False]\n",
        "        random_grid = {'n_estimators':n_estimators#, 'max_samples':max_samples, 'max_features':max_features   , 'bootstrap':bootstrap \n",
        "        }\n",
        "\n",
        "    else:\n",
        "        print ('grid not created for this classifier')\n",
        "\n",
        "    return random_grid\n"
      ]
    },
    {
      "cell_type": "code",
      "execution_count": null,
      "metadata": {},
      "outputs": [],
      "source": [
        "def getGrid(classifier): \n",
        "\n",
        "    #Hyperparameters tuning\n",
        "    #SETTING THE SEARCH SPACE\n",
        "\n",
        "    if isinstance(classifier, RandomForestClassifier):\n",
        "\n",
        "        # Number of trees in random forest\n",
        "        n_estimators = [50]\n",
        "        \n",
        "\n",
        "        # Maximum number of levels in tree\n",
        "        #max_depth = [2, 5, 10, 15, 20, None]\n",
        "        max_depth = [ 10]\n",
        "\n",
        "        # Minimum number of samples required to split a node\n",
        "        #min_samples_split = [2, 5, 7, 10, 13, 20]\n",
        "        min_samples_split = [5]\n",
        "        class_weight = ['balanced']\n",
        "\n",
        "        # Create the random grid\n",
        "        grid = {'n_estimators': n_estimators,\n",
        "                'max_depth': max_depth,\n",
        "                'min_samples_split': min_samples_split,\n",
        "                #'bootstrap' : bootstrap,\n",
        "                #'oob_score' : oob_score,\n",
        "                'class_weight' :  class_weight\n",
        "                }\n",
        "\n",
        "    \n",
        "    else:\n",
        "        print ('grid not created for this classifier')\n",
        "\n",
        "    return grid"
      ]
    },
    {
      "cell_type": "code",
      "execution_count": 4,
      "metadata": {},
      "outputs": [],
      "source": [
        "def runGridSearch(X, y, Xcv, ycv,classifier, grid,score): \n",
        "    # Use the random grid to search for best hyperparameters\n",
        "\n",
        "    classifier_grid_search = GridSearchCV(classifier, ragriddom_grid, scoring = score, return_train_score = True,cv = 2, verbose = 4, n_jobs = -1)\n",
        "    # Fit the random search model\n",
        "    classifier_grid_search.fit(X, y)\n",
        "\n",
        "\n",
        "    #@ Inspecting the Scores:\n",
        "    cvresults = pd.DataFrame(classifier_grid_search.cv_results_).sort_values('rank_test_score')\n",
        "\n",
        "    print_results = cvresults[['mean_train_score','mean_test_score','rank_test_score']].copy()\n",
        "    for row in range(0,cvresults.shape[0]):         \n",
        "        for k, v in cvresults.loc[row,\"params\"].items(): \n",
        "\n",
        "            if (k == 'hidden_layer_sizes' ):\n",
        "                print_results.loc[row,k] = str(v)\n",
        "            else:\n",
        "                print_results.loc[row,k] = v    \n",
        "\n",
        "        \n",
        "    print(print_results)\n",
        "\n",
        "    return classifier_grid_search\n",
        "\n",
        "\n"
      ]
    }
  ],
  "metadata": {
    "colab": {
      "collapsed_sections": [],
      "include_colab_link": true,
      "name": "Import_data.ipynb",
      "provenance": []
    },
    "kernelspec": {
      "display_name": "Python 3.8.12",
      "language": "python",
      "name": "python3"
    },
    "language_info": {
      "codemirror_mode": {
        "name": "ipython",
        "version": 3
      },
      "file_extension": ".py",
      "mimetype": "text/x-python",
      "name": "python",
      "nbconvert_exporter": "python",
      "pygments_lexer": "ipython3",
      "version": "3.8.12"
    },
    "vscode": {
      "interpreter": {
        "hash": "9e8336f5aaf8eebef6d48a3b45b08494b66fe67a2a04be680b33896f2163d8b6"
      }
    }
  },
  "nbformat": 4,
  "nbformat_minor": 0
}
