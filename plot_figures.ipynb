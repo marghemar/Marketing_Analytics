{
 "cells": [
  {
   "cell_type": "markdown",
   "metadata": {},
   "source": [
    "**Reading the Data**\n",
    "* From csv file, and set the indexes"
   ]
  },
  {
   "cell_type": "code",
   "execution_count": 25,
   "metadata": {},
   "outputs": [
    {
     "data": {
      "text/plain": [
       "<torch._C.Generator at 0x2c2e75554b0>"
      ]
     },
     "execution_count": 25,
     "metadata": {},
     "output_type": "execute_result"
    }
   ],
   "source": [
    "\n",
    "# import libraries\n",
    "import seaborn as sns\n",
    "import pandas as pd\n",
    "import numpy as np\n",
    "import matplotlib.pyplot as plt\n",
    "from sklearn.metrics import confusion_matrix, ConfusionMatrixDisplay,f1_score\n",
    "\n",
    "import torch\n",
    "\n",
    "import import_ipynb\n",
    "from NNpythorch import *\n",
    "\n"
   ]
  },
  {
   "cell_type": "code",
   "execution_count": null,
   "metadata": {},
   "outputs": [],
   "source": [
    "def plot_scores(X,y_test,criterion,weights ,threshold):\n",
    "    \n",
    "    y = np.ravel(y_test)\n",
    "    \n",
    "    for icolumn, column  in enumerate(X.columns):\n",
    "        \n",
    "        loss_test = criterion(torch.flatten(torch.tensor(X[column].values, dtype=torch.double)), torch.tensor(np.ravel(y_test.values)))\n",
    "        \n",
    "        y_pred = [1 if x >threshold else 0 for x in X[column].values]\n",
    "        f1 = f1_score(y, y_pred,  sample_weight=weights)\n",
    "        print('mode : {}, loss_test {}, f1_score {}'.format(column,loss_test,f1))"
   ]
  },
  {
   "cell_type": "code",
   "execution_count": null,
   "metadata": {},
   "outputs": [],
   "source": [
    "def create_confusion_matrix(X,y, threshold):\n",
    "\n",
    "    labels = [0,1]                \n",
    "    \n",
    "    fig, ax = plt.subplots(1)\n",
    "    fig.set_size_inches(5, 5)\n",
    "\n",
    "    cm = confusion_matrix(y,X>threshold , labels=labels)\n",
    "    disp = ConfusionMatrixDisplay(confusion_matrix=cm,  display_labels=labels)\n",
    "    disp.plot(ax=ax)        \n",
    "    ax.set_title('confusion matrix')"
   ]
  },
  {
   "cell_type": "code",
   "execution_count": null,
   "metadata": {},
   "outputs": [],
   "source": [
    "def create_figure_distribution(X, column_y= []):    \n",
    "    if (column_y == []):\n",
    "        column_y=X.columns[-1]\n",
    "    \n",
    "    X= X.set_index([X.index.get_level_values(0),X.index.get_level_values(1),column_y])  \n",
    "    data_stack = X.stack().to_frame()\n",
    "    data_stack[column_y] = data_stack.index.get_level_values(2)\n",
    "    data_stack.columns= [ 'value', column_y]\n",
    "    data_stack['feature']=data_stack.index.get_level_values(3)\n",
    "    ax=sns.displot(data_stack, x= 'value', hue =column_y,row='feature', common_norm=False, kind=\"kde\", height=2, aspect=10)\n",
    "    ax.set(ylim=(0, .5))"
   ]
  },
  {
   "cell_type": "code",
   "execution_count": null,
   "metadata": {},
   "outputs": [],
   "source": [
    "def printFeatureImportance(classifier, indicators): \n",
    "    # features importance calculation and visualization\n",
    "    \n",
    "    importances = classifier.feature_importances_\n",
    "    indices = np.argsort(importances)\n",
    "    plt.figure()\n",
    "    plt.set_size_inches(20, 4)\n",
    "    plt.title('Feature Importances')\n",
    "    plt.barh(range(len(indices)), importances[indices], color='b', align='center')\n",
    "    plt.yticks(range(len(indices)), [indicators[i] for i in indices])\n",
    "    plt.xlabel('Relative Importance')\n",
    "    plt.show()"
   ]
  },
  {
   "cell_type": "code",
   "execution_count": null,
   "metadata": {},
   "outputs": [],
   "source": [
    "def print_prob_events(y, y_predictions, title = ''): \n",
    "\n",
    "  \n",
    "    fig1, axes1 = plt.subplots(1,2)\n",
    "    fig1.tight_layout()\n",
    "    fig1.set_size_inches(20, 4)\n",
    "    time_axis = y.index.get_level_values(0)+y.index.get_level_values(1)/12\n",
    "\n",
    "    color1 = 'red'\n",
    "    color2 = 'blue'\n",
    "\n",
    "    ax = axes1[0]    \n",
    "    ax.scatter(time_axis, np.ravel (y_predictions), c=color1,marker = 'o', label='Predicted ')\n",
    "    ax.scatter(time_axis, np.ravel (y), c=color2,marker = '*', label='Recorded' )\n",
    "    ax.legend()        \n",
    "    ax.set_title('Train - Damages VS time '+ title)\n",
    "    ax.set_xlabel('Date')\n",
    "    ax.set_ylabel('Number of damages')\n",
    "\n",
    "    \n",
    "    ax = axes1[1]\n",
    "    ax.scatter(np.ravel (y), np.ravel (y_predictions), c=color1)\n",
    "    ax.plot(np.ravel (y), np.ravel (y), c='blue')\n",
    "    ax.set_title('Train - Damages vs predicted '+ title)\n",
    "    ax.set_xlabel('Number of damages')\n",
    "    ax.set_ylabel('Number of predicted damages')\n",
    "\n",
    "    "
   ]
  }
 ],
 "metadata": {
  "interpreter": {
   "hash": "9e8336f5aaf8eebef6d48a3b45b08494b66fe67a2a04be680b33896f2163d8b6"
  },
  "kernelspec": {
   "display_name": "Python 3.8.12 ('python_env')",
   "language": "python",
   "name": "python3"
  },
  "language_info": {
   "codemirror_mode": {
    "name": "ipython",
    "version": 3
   },
   "file_extension": ".py",
   "mimetype": "text/x-python",
   "name": "python",
   "nbconvert_exporter": "python",
   "pygments_lexer": "ipython3",
   "version": "3.8.12"
  },
  "orig_nbformat": 4
 },
 "nbformat": 4,
 "nbformat_minor": 2
}
