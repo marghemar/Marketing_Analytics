{
 "cells": [
  {
   "cell_type": "markdown",
   "metadata": {},
   "source": [
    "**Reading the Data**\n",
    "* From csv file, and set the indexes"
   ]
  },
  {
   "cell_type": "code",
   "execution_count": 1,
   "metadata": {},
   "outputs": [
    {
     "data": {
      "text/plain": [
       "<torch._C.Generator at 0x21b65384710>"
      ]
     },
     "execution_count": 1,
     "metadata": {},
     "output_type": "execute_result"
    }
   ],
   "source": [
    "# import libraries\n",
    "import pandas as pd\n",
    "import numpy as np\n",
    "import torch\n",
    "import torch.nn as nn\n",
    "import torchvision\n",
    "\n",
    "import torch.optim as optim\n",
    "import math\n",
    "\n",
    "import matplotlib.pyplot as plt\n",
    "torch.manual_seed(1)\n"
   ]
  },
  {
   "cell_type": "markdown",
   "metadata": {},
   "source": [
    "Prepara data"
   ]
  },
  {
   "cell_type": "code",
   "execution_count": 4,
   "metadata": {},
   "outputs": [],
   "source": [
    "class Net_2_layers(nn.Module):\n",
    "    def __init__(self):\n",
    "        super(Net_2_layers, self).__init__()\n",
    "        \n",
    "        self.fc1 = nn.Linear(17, 4)\n",
    "        self.relu = nn.ReLU(inplace=True)\n",
    "        self.fc2 = nn.Linear(4, 4)\n",
    "        self.fc3 = nn.Linear(4, 1)\n",
    "        \n",
    "    def forward(self, x):\n",
    "        x = self.relu(self.fc1(x))\n",
    "        x = self.relu(self.fc2(x))\n",
    "        x = self.fc3(x)\n",
    "       \n",
    "        return x"
   ]
  },
  {
   "cell_type": "code",
   "execution_count": 5,
   "metadata": {},
   "outputs": [],
   "source": [
    "class Net_3_layers(nn.Module):\n",
    "    def __init__(self):\n",
    "        super(Net_3_layers, self).__init__()\n",
    "        \n",
    "        self.fc1 = nn.Linear(17, 4)\n",
    "        self.relu = nn.ReLU(inplace=True)\n",
    "        self.fc2 = nn.Linear(4, 4)\n",
    "        self.fc3 = nn.Linear(4, 4)\n",
    "        self.fc4 = nn.Linear(4, 1)\n",
    "        \n",
    "    def forward(self, x):\n",
    "        x = self.relu(self.fc1(x))\n",
    "        x = self.relu(self.fc2(x))\n",
    "        x = self.relu(self.fc3(x))\n",
    "        x = self.fc4(x)\n",
    "       \n",
    "        return x"
   ]
  },
  {
   "cell_type": "code",
   "execution_count": 6,
   "metadata": {},
   "outputs": [],
   "source": [
    "def create_input_for_NN(X,y,num_hidden_layers = 2 , lr =1e-2 ):\n",
    "    \n",
    "    \n",
    "    if (num_hidden_layers == 2):\n",
    "        net = Net_2_layers()\n",
    "    if (num_hidden_layers == 3):\n",
    "        net = Net_3_layers()\n",
    "    else:\n",
    "        assert False, 'the number of hidden layers is wrong'\n",
    "\n",
    "    optimizer = optim.Adam(net.parameters(), lr=lr)\n",
    "    criterion = nn.BCEWithLogitsLoss()\n",
    "\n",
    "\n",
    "    X_tensor = torch.tensor(X.values, dtype=torch.float)\n",
    "    y_tensor = torch.tensor(y.values, dtype=torch.float)\n",
    "\n",
    "    assert X.shape[0] ==X_tensor.shape[0] , 'wrong input_df_vec dimensions'\n",
    "    assert y.shape[0] ==y_tensor.shape[0] , 'wrong input_df_vec dimensions'\n",
    "    assert len(X.columns) ==X_tensor.shape[1] , 'wrong input_df_vec dimensions'\n",
    "\n",
    "    train_dataset = torch.utils.data.TensorDataset(X_tensor, y_tensor)\n",
    "    train_loader = torch.utils.data.DataLoader(train_dataset, batch_size=30000, shuffle=True, num_workers=0)\n",
    "\n",
    "    return [net, optimizer, criterion,X_tensor, y_tensor,train_dataset,train_loader]\n",
    "    "
   ]
  },
  {
   "cell_type": "code",
   "execution_count": 7,
   "metadata": {},
   "outputs": [],
   "source": [
    "\n",
    "def training_NN(net='', optimizer = '', criterion='',train_loader='', niter = 100):\n",
    "\n",
    "    loss_vec=[]\n",
    "    for epoch in range(niter):  # loop over the dataset multiple times\n",
    "\n",
    "        for i, data in enumerate(train_loader, 0):\n",
    "            # get the inputs; data is a list of [inputs, labels]\n",
    "            inputs, labels = data\n",
    "\n",
    "            # zero the parameter gradients\n",
    "            optimizer.zero_grad()\n",
    "\n",
    "            # forward + backward + optimize\n",
    "            outputs = net(inputs)\n",
    "            \n",
    "            loss = criterion(torch.flatten(outputs), torch.flatten(labels))\n",
    "            loss.backward()\n",
    "            optimizer.step()\n",
    "\n",
    "            loss_vec.append(loss.detach().numpy())\n",
    "    fig, axes = plt.subplots(1,1)\n",
    "    ax = axes\n",
    "    ax.set_xlabel('iterations')\n",
    "    ax.set_ylabel('loss')\n",
    "    ax.plot(loss_vec)\n",
    "\n",
    "    return \n",
    " "
   ]
  }
 ],
 "metadata": {
  "interpreter": {
   "hash": "9e8336f5aaf8eebef6d48a3b45b08494b66fe67a2a04be680b33896f2163d8b6"
  },
  "kernelspec": {
   "display_name": "Python 3.8.12 ('python_env')",
   "language": "python",
   "name": "python3"
  },
  "language_info": {
   "codemirror_mode": {
    "name": "ipython",
    "version": 3
   },
   "file_extension": ".py",
   "mimetype": "text/x-python",
   "name": "python",
   "nbconvert_exporter": "python",
   "pygments_lexer": "ipython3",
   "version": "3.8.12"
  },
  "orig_nbformat": 4
 },
 "nbformat": 4,
 "nbformat_minor": 2
}
